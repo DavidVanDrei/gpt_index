{
 "cells": [
  {
   "cell_type": "code",
   "execution_count": 71,
   "id": "b4b4387b-413e-4016-ba1e-88b3d9410a38",
   "metadata": {},
   "outputs": [],
   "source": [
    "# fetch \"New York City\" page from Wikipedia\n",
    "from pathlib import Path\n",
    "\n",
    "import requests\n",
    "from bs4 import BeautifulSoup\n",
    "# response = requests.get(\n",
    "#     'https://en.wikipedia.org/w/api.php',\n",
    "#     params={\n",
    "#         'action': 'query',\n",
    "#         'format': 'json',\n",
    "#         'titles': 'Siege of Boston',\n",
    "#         'prop': 'extracts',\n",
    "#         # 'exintro': True,\n",
    "#         'explaintext': True,\n",
    "#     }\n",
    "# ).json()\n",
    "# page = next(iter(response['query']['pages'].values()))\n",
    "# nyc_text = page['extract']\n",
    "\n",
    "# data_path = Path('data')\n",
    "# if not data_path.exists():\n",
    "#     Path.mkdir(data_path)\n",
    "\n",
    "# with open('data/boston_battle_text.txt', 'w') as fp:\n",
    "#     fp.write(nyc_text)"
   ]
  },
  {
   "cell_type": "code",
   "execution_count": 57,
   "id": "6bb68859",
   "metadata": {},
   "outputs": [],
   "source": [
    "pages = {\n",
    "   'about-repositories' :'https://docs.github.com/en/repositories/creating-and-managing-repositories/about-repositories',\n",
    "   'best-practices' :'https://docs.github.com/en/repositories/creating-and-managing-repositories/best-practices-for-repositories',\n",
    "    'creating-repo':'https://docs.github.com/en/repositories/creating-and-managing-repositories/creating-a-new-repository',\n",
    "    'creating-from-template': 'https://docs.github.com/en/repositories/creating-and-managing-repositories/creating-a-repository-from-a-template',\n",
    "    'issues-only-repo': 'https://docs.github.com/en/repositories/creating-and-managing-repositories/creating-an-issues-only-repository',\n",
    "    'duplicate-repo':'https://docs.github.com/en/repositories/creating-and-managing-repositories/duplicating-a-repository',\n",
    "    'cloning-repo':'https://docs.github.com/en/repositories/creating-and-managing-repositories/cloning-a-repository',\n",
    "    'troubleshooting-cloning':'https://docs.github.com/en/repositories/creating-and-managing-repositories/troubleshooting-cloning-errors',\n",
    "    'renaming-a-repo':'https://docs.github.com/en/repositories/creating-and-managing-repositories/renaming-a-repository',\n",
    "    'transfering-a-repo':'https://docs.github.com/en/repositories/creating-and-managing-repositories/transferring-a-repository',\n",
    "    'deleting-repo':'https://docs.github.com/en/repositories/creating-and-managing-repositories/deleting-a-repository',\n",
    "    'restoring-repo':'https://docs.github.com/en/repositories/creating-and-managing-repositories/restoring-a-deleted-repository'\n",
    "    \n",
    "}"
   ]
  },
  {
   "cell_type": "code",
   "execution_count": 58,
   "id": "a85201ea",
   "metadata": {},
   "outputs": [],
   "source": [
    "for page in pages:\n",
    "    response = requests.get(pages[page])\n",
    "    html = response.text\n",
    "    soup = BeautifulSoup(html, 'html.parser')\n",
    "    text = soup.get_text()\n",
    "    data_path = Path('data')\n",
    "    if not data_path.exists():\n",
    "        Path.mkdir(data_path)\n",
    "\n",
    "    with open(f'data/{page}', 'w') as fp:\n",
    "        fp.write(text)\n"
   ]
  },
  {
   "cell_type": "code",
   "execution_count": 74,
   "id": "f1a9eb90-335c-4214-8bb6-fd1edbe3ccbd",
   "metadata": {},
   "outputs": [],
   "source": [
    "# My OpenAI Key\n",
    "import os\n",
    "os.environ['OPENAI_API_KEY'] = os.environ.get(\"OPENAI_API_KEY\")\n"
   ]
  },
  {
   "cell_type": "code",
   "execution_count": 60,
   "id": "8d0b2364-4806-4656-81e7-3f6e4b910b5b",
   "metadata": {},
   "outputs": [],
   "source": [
    "from gpt_index import GPTTreeIndex, SimpleDirectoryReader"
   ]
  },
  {
   "cell_type": "code",
   "execution_count": 61,
   "id": "1298bbb4-c99e-431e-93ef-eb32c0a2fc2a",
   "metadata": {
    "tags": []
   },
   "outputs": [
    {
     "name": "stdout",
     "output_type": "stream",
     "text": [
      "> Building index from nodes: 6 chunks\n",
      "> [build_index_from_documents] Total LLM token usage: 19027 tokens\n",
      "> [build_index_from_documents] Total embedding token usage: 0 tokens\n"
     ]
    }
   ],
   "source": [
    "documents = SimpleDirectoryReader('data').load_data()\n",
    "index = GPTTreeIndex(documents)"
   ]
  },
  {
   "cell_type": "code",
   "execution_count": 62,
   "id": "0b4fe9b6-5762-4e86-b51e-aac45d3ecdb1",
   "metadata": {},
   "outputs": [],
   "source": [
    "index.save_to_disk('index.json')"
   ]
  },
  {
   "cell_type": "code",
   "execution_count": 63,
   "id": "5eec265d-211b-4f26-b05b-5b4e7072bc6e",
   "metadata": {},
   "outputs": [],
   "source": [
    "# try loading\n",
    "new_index = GPTTreeIndex.load_from_disk('index.json')"
   ]
  },
  {
   "cell_type": "code",
   "execution_count": 69,
   "id": "68c9ebfe-b1b6-4f4e-9278-174346de8c90",
   "metadata": {
    "tags": []
   },
   "outputs": [
    {
     "name": "stdout",
     "output_type": "stream",
     "text": [
      "> Starting query: How are issue only repos different than other repos?\n",
      ">[Level 0] Selected node: [4]/[4]\n",
      ">[Level 1] Selected node: [8]/[8]\n",
      "> [query] Total LLM token usage: 4441 tokens\n",
      "> [query] Total embedding token usage: 0 tokens\n"
     ]
    }
   ],
   "source": [
    "# try verbose=True for more detailed outputs\n",
    "response = new_index.query(\"How are issue only repos different than other repos?\")"
   ]
  },
  {
   "cell_type": "code",
   "execution_count": 70,
   "id": "4fc3f18a-0ef9-453c-acf8-7aedd784cdcf",
   "metadata": {},
   "outputs": [
    {
     "name": "stdout",
     "output_type": "stream",
     "text": [
      "Issue only repositories are repositories that are used solely for tracking and managing issues. They do not contain any code or other files, and are not used for development or collaboration. They are typically used to track and manage tasks, bugs, and feature requests.\n"
     ]
    },
    {
     "data": {
      "text/plain": [
       "'> Source (Doc id: 808521dd-613f-499a-8861-aaa60f08dc8b): Creating an issues-only repository - GitHub DocsSkip to main contentGitHub DocsVersion: Free, Pro...'"
      ]
     },
     "execution_count": 70,
     "metadata": {},
     "output_type": "execute_result"
    }
   ],
   "source": [
    "# GPT doesn't find the corresponding evidence in the leaf node, but still gives the correct answer\n",
    "# try verbose=True for more detailed outputs\n",
    "print(response.response)\n",
    "response.get_formatted_sources()\n",
    "\n"
   ]
  }
 ],
 "metadata": {
  "kernelspec": {
   "display_name": "Python 3 (ipykernel)",
   "language": "python",
   "name": "python3"
  },
  "language_info": {
   "codemirror_mode": {
    "name": "ipython",
    "version": 3
   },
   "file_extension": ".py",
   "mimetype": "text/x-python",
   "name": "python",
   "nbconvert_exporter": "python",
   "pygments_lexer": "ipython3",
   "version": "3.10.5"
  }
 },
 "nbformat": 4,
 "nbformat_minor": 5
}
